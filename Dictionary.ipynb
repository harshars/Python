{
 "cells": [
  {
   "cell_type": "markdown",
   "metadata": {},
   "source": [
    "##**DICTIONARY**"
   ]
  },
  {
   "cell_type": "markdown",
   "metadata": {},
   "source": [
    "Python programs or scripts without lists and dictionaries are nearly inconceivable. Like lists dictionaries can easily be\n",
    "changed, can be shrunk and grown ad libitum at run time. They shrink and grow without the necessity of making copies. \n",
    "Dictionaries can be contained in lists and vice versa. But what's the difference between lists and dictionaries?\n",
    "Lists are ordered sets of objects, whereas dictionaries are unordered sets. \n",
    "\n",
    "But the main difference is that items in dictionaries are accessed via keys and not via their position. \n",
    "A dictionary is an associative array (also known as hashes). \n",
    "Any key of the dictionary is associated (or mapped) to a value. \n",
    "The values of a dictionary can be any Python data type. So dictionaries are unordered key-value-pairs.\n",
    "\n",
    "Dictionary don't support the sequence operation of the sequence data types like strings, tuples and lists. \n",
    "Dictionaries belong to the built-in mapping type. They are the sole representative of this kind!\n",
    "\n",
    "At the end of this chapter, we will show how a dictionary can be turned into one list,\n",
    "containing (key,value)-tuples or two lists, i.e. one with the keys and one with the values. \n",
    "This transformation can be done reversely as well. "
   ]
  },
  {
   "cell_type": "markdown",
   "metadata": {},
   "source": [
    "\n",
    "\n",
    "Our first example is the most simple dictionary, an empty dictionary: "
   ]
  },
  {
   "cell_type": "code",
   "execution_count": 1,
   "metadata": {},
   "outputs": [
    {
     "name": "stdout",
     "output_type": "stream",
     "text": [
      "{}\n"
     ]
    }
   ],
   "source": [
    "#execute the following\n",
    "empty = {}\n",
    "print empty\n"
   ]
  },
  {
   "cell_type": "markdown",
   "metadata": {},
   "source": [
    "we'll have now some special food dictionaries. "
   ]
  },
  {
   "cell_type": "code",
   "execution_count": 9,
   "metadata": {},
   "outputs": [
    {
     "data": {
      "text/plain": [
       "{'egg': 'yes', 'ham': 'yes', 'spam': 'no'}"
      ]
     },
     "execution_count": 9,
     "metadata": {},
     "output_type": "execute_result"
    }
   ],
   "source": [
    "#execute the following\n",
    "food = {\"ham\" : \"yes\", \"egg\" : \"yes\", \"spam\" : \"no\" }\n",
    "food"
   ]
  },
  {
   "cell_type": "code",
   "execution_count": 10,
   "metadata": {},
   "outputs": [
    {
     "data": {
      "text/plain": [
       "{'egg': 'yes', 'ham': 'yes', 'spam': 'yes'}"
      ]
     },
     "execution_count": 10,
     "metadata": {},
     "output_type": "execute_result"
    }
   ],
   "source": [
    "#execute the following\n",
    "food[\"spam\"] = \"yes\"\n",
    "food"
   ]
  },
  {
   "cell_type": "markdown",
   "metadata": {},
   "source": [
    "Our next example is a simple German-English dictionary: "
   ]
  },
  {
   "cell_type": "code",
   "execution_count": 11,
   "metadata": {},
   "outputs": [
    {
     "name": "stdout",
     "output_type": "stream",
     "text": [
      "{'blue': 'blau', 'green': 'gr\\xc3\\xbcn', 'yellow': 'gelb', 'red': 'rot'}\n",
      "rot\n",
      "The French word for red is: rouge\n"
     ]
    }
   ],
   "source": [
    "# -*- coding: iso-8859-1 -*-\n",
    "\n",
    "en_de = {\"red\" : \"rot\", \"green\" : \"grün\", \"blue\" : \"blau\", \"yellow\":\"gelb\"}\n",
    "print en_de\n",
    "print en_de[\"red\"]\n",
    "de_fr = {\"rot\" : \"rouge\", \"grün\" : \"vert\", \"blau\" : \"bleu\", \"gelb\":\"jaune\"}\n",
    "print \"The French word for red is: \" + de_fr[en_de[\"red\"]]"
   ]
  },
  {
   "cell_type": "markdown",
   "metadata": {},
   "source": [
    "We can use arbitrary types as values in a dictionary, but there is a restriction for the keys.\n",
    "Only immutable data types can be used as keys, i.e. no lists or dictionaries can be used:\n",
    "If you use a mutable data type as a key, you get an error message: "
   ]
  },
  {
   "cell_type": "code",
   "execution_count": null,
   "metadata": {},
   "outputs": [],
   "source": [
    "dic = { [1,2,3]:\"abc\"} # you will get error as list is not mutable\n"
   ]
  },
  {
   "cell_type": "code",
   "execution_count": 39,
   "metadata": {},
   "outputs": [
    {
     "name": "stdout",
     "output_type": "stream",
     "text": [
      "d\n",
      "1\n"
     ]
    },
    {
     "data": {
      "text/plain": [
       "{'1': 'd', '2': 'd', '3': 'g'}"
      ]
     },
     "execution_count": 39,
     "metadata": {},
     "output_type": "execute_result"
    }
   ],
   "source": [
    "l=['1','2','3']\n",
    "v=['d','d','g']\n",
    "d={}\n",
    "d[l[0]]=v[0]\n",
    "d[l[1]]=v[1]\n",
    "d[l[2]]=v[2]\n",
    "d.keys()\n",
    "print min(d.values())\n",
    "print min(d.keys())\n",
    "d"
   ]
  },
  {
   "cell_type": "code",
   "execution_count": null,
   "metadata": {
    "collapsed": true
   },
   "outputs": [],
   "source": []
  }
 ],
 "metadata": {
  "kernelspec": {
   "display_name": "Python 2",
   "language": "python",
   "name": "python2"
  },
  "language_info": {
   "codemirror_mode": {
    "name": "ipython",
    "version": 2
   },
   "file_extension": ".py",
   "mimetype": "text/x-python",
   "name": "python",
   "nbconvert_exporter": "python",
   "pygments_lexer": "ipython2",
   "version": "2.7.13"
  }
 },
 "nbformat": 4,
 "nbformat_minor": 1
}
