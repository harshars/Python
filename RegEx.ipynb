{
 "cells": [
  {
   "cell_type": "markdown",
   "metadata": {},
   "source": [
    "Regex is one of the most powerful tools of Python that helps us to search for any pattern in the input string and manipulate strings effectievly "
   ]
  },
  {
   "cell_type": "markdown",
   "metadata": {},
   "source": [
    "Regex Syntax:"
   ]
  },
  {
   "cell_type": "markdown",
   "metadata": {},
   "source": [
    "(a)\n",
    "The first metacharacters we’ll look at are '[' and ']'. They’re used for specifying a character class, which is a set of characters that you wish to match.\n",
    "eg:[a-c] means the input can contain any character from a to c . \n",
    "This can also be representated as [abc]"
   ]
  },
  {
   "cell_type": "code",
   "execution_count": 1,
   "metadata": {
    "collapsed": true
   },
   "outputs": [],
   "source": [
    "import re #regex python inbuilt library "
   ]
  },
  {
   "cell_type": "code",
   "execution_count": 2,
   "metadata": {},
   "outputs": [],
   "source": [
    "#The regex pattern defined searches only for alphabets and display the chunk of the input that matches the pattern\n",
    "pattern = r\"([a-zA-Z]+)\"\n",
    "string1=\"abc1213\"\n",
    "string2=\"123xyz\"\n",
    "match1=re.match(pattern,string1)\n",
    "match2=re.match(pattern,string2)"
   ]
  },
  {
   "cell_type": "code",
   "execution_count": 3,
   "metadata": {},
   "outputs": [
    {
     "name": "stdout",
     "output_type": "stream",
     "text": [
      "abc\n"
     ]
    }
   ],
   "source": [
    "print match1.group()"
   ]
  },
  {
   "cell_type": "code",
   "execution_count": 4,
   "metadata": {},
   "outputs": [
    {
     "ename": "AttributeError",
     "evalue": "'NoneType' object has no attribute 'group'",
     "output_type": "error",
     "traceback": [
      "\u001b[0;31m---------------------------------------------------------------------------\u001b[0m",
      "\u001b[0;31mAttributeError\u001b[0m                            Traceback (most recent call last)",
      "\u001b[0;32m<ipython-input-4-1fb2a9aa3f36>\u001b[0m in \u001b[0;36m<module>\u001b[0;34m()\u001b[0m\n\u001b[0;32m----> 1\u001b[0;31m \u001b[0;32mprint\u001b[0m \u001b[0mmatch2\u001b[0m\u001b[0;34m.\u001b[0m\u001b[0mgroup\u001b[0m\u001b[0;34m(\u001b[0m\u001b[0;34m)\u001b[0m\u001b[0;34m\u001b[0m\u001b[0m\n\u001b[0m\u001b[1;32m      2\u001b[0m \u001b[0;31m#throws error because match checks for a match only at the beginning of a string . So, we use search instead\u001b[0m\u001b[0;34m\u001b[0m\u001b[0;34m\u001b[0m\u001b[0m\n",
      "\u001b[0;31mAttributeError\u001b[0m: 'NoneType' object has no attribute 'group'"
     ]
    }
   ],
   "source": [
    "print match2.group() \n",
    "#throws error because match checks for a match only at the beginning of a string . So, we use search instead"
   ]
  },
  {
   "cell_type": "markdown",
   "metadata": {},
   "source": [
    "# Search "
   ]
  },
  {
   "cell_type": "code",
   "execution_count": 5,
   "metadata": {},
   "outputs": [],
   "source": [
    "search1=re.search(pattern,string1)\n",
    "search2=re.search(pattern,string2)"
   ]
  },
  {
   "cell_type": "code",
   "execution_count": 6,
   "metadata": {},
   "outputs": [
    {
     "name": "stdout",
     "output_type": "stream",
     "text": [
      "abc\n"
     ]
    }
   ],
   "source": [
    "print search1.group()   #same as match since the matching pattern is at the beginnig "
   ]
  },
  {
   "cell_type": "code",
   "execution_count": 7,
   "metadata": {},
   "outputs": [
    {
     "name": "stdout",
     "output_type": "stream",
     "text": [
      "xyz\n"
     ]
    }
   ],
   "source": [
    "print search2.group() #returns the matched substring no matter the position"
   ]
  },
  {
   "cell_type": "code",
   "execution_count": null,
   "metadata": {
    "collapsed": true
   },
   "outputs": [],
   "source": []
  },
  {
   "cell_type": "markdown",
   "metadata": {},
   "source": [
    "(b)\n",
    "You can match the charaters not present in the input pattern by \"complementing\" the set using '^'\n",
    "eg: [^abc] matches for all the characters except a , b and c "
   ]
  },
  {
   "cell_type": "raw",
   "metadata": {},
   "source": [
    "# (c)the backslash can be followed by various characters to signal various special sequences. You can escape the special meaning of the metacharacters by preceding them with a '\\' \n",
    "e.g. You can search for a '[' using '\\[' \n",
    "\n",
    "PS : The metacharacter \"$\" is stripped of its special meaning if you use it inside the character class []. \n",
    "e.g. The regex pattern [adf$] matches the characters a or d or f or $ \n",
    "\n"
   ]
  },
  {
   "cell_type": "raw",
   "metadata": {},
   "source": [
    "\n",
    "Repetition:\n",
    "\n",
    "#(d) the metacharacter + means that one or more character of the same pattern can be present \n",
    "* means zero or more characters of the matched pattern can be present \n",
    "? means zero or one character of the matched pattern can be present "
   ]
  },
  {
   "cell_type": "code",
   "execution_count": 44,
   "metadata": {},
   "outputs": [
    {
     "name": "stdout",
     "output_type": "stream",
     "text": [
      "zero or more b a\n",
      "one or more b abbbbbb\n",
      "zero or one b ab\n",
      "followed by three b abbb\n",
      "followed by two to three b abb\n"
     ]
    }
   ],
   "source": [
    "print 'zero or more b', re.search(r\"(ab*)\",\"a\").group()\n",
    "print 'one or more b', re.search(r\"(ab+)\",\"abbbbbb\").group()\n",
    "print 'zero or one b', re.search(r\"(ab?)\",\"abbab\").group()\n",
    "print 'followed by three b', re.search(r\"(ab{3})\",\"xxabbbyxab\").group()\n",
    "print 'followed by two to three b', re.search(r\"(ab{2,3})\",\"xyabbab\").group()\n"
   ]
  },
  {
   "cell_type": "raw",
   "metadata": {},
   "source": [
    "Special sequences: \n",
    "\\d\n",
    "Matches any decimal digit; this is equivalent to the class [0-9].\n",
    "\\D\n",
    "Matches any non-digit character; this is equivalent to the class [^0-9].\n",
    "\\s\n",
    "Matches any whitespace character; this is equivalent to the class [ \\t\\n\\r\\f\\v].\n",
    "\\S\n",
    "Matches any non-whitespace character; this is equivalent to the class [^ \\t\\n\\r\\f\\v].\n",
    "\\w\n",
    "Matches any alphanumeric character; this is equivalent to the class [a-zA-Z0-9_].\n",
    "\\W\n",
    "Matches any non-alphanumeric character; this is equivalent to the class [^a-zA-Z0-9_].\n"
   ]
  },
  {
   "cell_type": "code",
   "execution_count": 8,
   "metadata": {
    "collapsed": true
   },
   "outputs": [],
   "source": [
    "pattern1 = r\"(\\d+)\"\n",
    "string3='Jan 24 2009ab'"
   ]
  },
  {
   "cell_type": "code",
   "execution_count": 9,
   "metadata": {},
   "outputs": [
    {
     "data": {
      "text/plain": [
       "'24'"
      ]
     },
     "execution_count": 9,
     "metadata": {},
     "output_type": "execute_result"
    }
   ],
   "source": [
    "v1=re.search(pattern1,string3)\n",
    "v1.group()  #displays the first matched result "
   ]
  },
  {
   "cell_type": "code",
   "execution_count": 10,
   "metadata": {},
   "outputs": [
    {
     "data": {
      "text/plain": [
       "['24', '2009']"
      ]
     },
     "execution_count": 10,
     "metadata": {},
     "output_type": "execute_result"
    }
   ],
   "source": [
    "re.findall(pattern1,string3) #finds the matched all substrings that match the pattern "
   ]
  },
  {
   "cell_type": "code",
   "execution_count": 11,
   "metadata": {},
   "outputs": [
    {
     "name": "stdout",
     "output_type": "stream",
     "text": [
      "4 : 6\n",
      "7 : 11\n"
     ]
    }
   ],
   "source": [
    "#instead of displaying the matched substring like findall, \n",
    "              #finditer returns the start and end positions of the matched substrings \n",
    "for i in re.finditer(pattern1,string3):\n",
    "    print i.start(),':',i.end()"
   ]
  },
  {
   "cell_type": "markdown",
   "metadata": {},
   "source": [
    "# Search and Replace"
   ]
  },
  {
   "cell_type": "markdown",
   "metadata": {},
   "source": [
    "You can also search for a pattern and replace with your desired pattern"
   ]
  },
  {
   "cell_type": "code",
   "execution_count": 15,
   "metadata": {},
   "outputs": [],
   "source": [
    "#To parse a date format from MM:DD:YYY to MM-DD-YYY\n",
    "year=\"Today's date is 30:09:2016\"\n",
    "pattern2=r\"(:)\"   \n",
    "#searches for : everywhere nd replaces with -\n"
   ]
  },
  {
   "cell_type": "code",
   "execution_count": null,
   "metadata": {
    "collapsed": true
   },
   "outputs": [],
   "source": []
  },
  {
   "cell_type": "code",
   "execution_count": 16,
   "metadata": {},
   "outputs": [
    {
     "data": {
      "text/plain": [
       "\"Today's date is 30-09-2016\""
      ]
     },
     "execution_count": 16,
     "metadata": {},
     "output_type": "execute_result"
    }
   ],
   "source": [
    "re.sub(pattern2,\"-\",year)"
   ]
  },
  {
   "cell_type": "code",
   "execution_count": null,
   "metadata": {
    "collapsed": true
   },
   "outputs": [],
   "source": []
  },
  {
   "cell_type": "code",
   "execution_count": null,
   "metadata": {
    "collapsed": true
   },
   "outputs": [],
   "source": []
  },
  {
   "cell_type": "code",
   "execution_count": 14,
   "metadata": {},
   "outputs": [],
   "source": [
    "text = \"He was carefully disguised but captured quickly by police.\"\n",
    "#search for all adverbs and replace them by ! \n"
   ]
  },
  {
   "cell_type": "code",
   "execution_count": null,
   "metadata": {
    "collapsed": true
   },
   "outputs": [],
   "source": [
    "pattern3=r\"(\\w+ly)\" \n",
    "print 'the substituted sentence is ', re.sub(pattern3,\"!\",text)\n",
    "print 'the adverbs in the sentence are', re.findall(pattern3,text)"
   ]
  },
  {
   "cell_type": "code",
   "execution_count": null,
   "metadata": {
    "collapsed": true
   },
   "outputs": [],
   "source": []
  },
  {
   "cell_type": "code",
   "execution_count": null,
   "metadata": {
    "collapsed": true
   },
   "outputs": [],
   "source": []
  },
  {
   "cell_type": "markdown",
   "metadata": {},
   "source": [
    " Exercise 1 \n",
    "    \n",
    "    Write a Python program to remove leading zeros from an IP address. \n",
    "    Input: 216.08.094.196 \n",
    "    Output : 216.8.94.196"
   ]
  },
  {
   "cell_type": "code",
   "execution_count": null,
   "metadata": {
    "collapsed": true
   },
   "outputs": [],
   "source": []
  },
  {
   "cell_type": "markdown",
   "metadata": {},
   "source": [
    "Exercise 2\n",
    "\n",
    "Write a Python program to convert a date of yyyy-mm-dd format to dd-mm-yyyy format.\n",
    "\n",
    "Input: 2026-01-02 \n",
    "\n",
    "\n",
    "Output : 01-02-2026"
   ]
  },
  {
   "cell_type": "code",
   "execution_count": null,
   "metadata": {
    "collapsed": true
   },
   "outputs": [],
   "source": []
  },
  {
   "cell_type": "markdown",
   "metadata": {},
   "source": [
    "Exercise 3:\n",
    "    Zara has a text article and wants to know the important context of the text. Write a regex pattern that returns all the important words from the text . \n",
    "    Note: According to Zara, important words are  the words enclosed in quotes (single or double)\n",
    "    \n",
    "    EG: Input : \"Python\", 'PHP, \"Java\" are the important languages that are used now a days\n",
    "    Output : ['Python', 'PHP', 'Java']\n"
   ]
  },
  {
   "cell_type": "code",
   "execution_count": null,
   "metadata": {
    "collapsed": true
   },
   "outputs": [],
   "source": []
  },
  {
   "cell_type": "markdown",
   "metadata": {},
   "source": [
    "Exercise 4:\n",
    "    Write a regular expression that finds all IP addresses listed in an input text and replaces it with the new string . \n",
    "    \n",
    "    Eg:; Input : text = 'IPs : 173.254.28.78 or 167.81.178.97 are the IPs listed'\n",
    "                 to_replace = '127.0.0.1'\n",
    "                 \n",
    "    Output : IPs : 127.0.0.1 or 127.0.0.1 are the IPs listed\n"
   ]
  },
  {
   "cell_type": "code",
   "execution_count": null,
   "metadata": {
    "collapsed": true
   },
   "outputs": [],
   "source": []
  },
  {
   "cell_type": "code",
   "execution_count": null,
   "metadata": {
    "collapsed": true
   },
   "outputs": [],
   "source": [
    "Exercise 5 :\n",
    "\n",
    "find all the phone numbers from a given text using a single regex \n",
    "Inputs :                                  Outputs\n",
    "Number  1 : 000-002-08-5678               000-002-08-567\n",
    "Numbers are : 78-7328                     78-7328\n",
    "More numbers : +91-02-008-7892            +91-02-008-789\n",
    "\n",
    "Assume that the codes cannot exceed 3 numbers . "
   ]
  },
  {
   "cell_type": "code",
   "execution_count": null,
   "metadata": {
    "collapsed": true
   },
   "outputs": [],
   "source": []
  }
 ],
 "metadata": {
  "kernelspec": {
   "display_name": "Python 2",
   "language": "python",
   "name": "python2"
  },
  "language_info": {
   "codemirror_mode": {
    "name": "ipython",
    "version": 2
   },
   "file_extension": ".py",
   "mimetype": "text/x-python",
   "name": "python",
   "nbconvert_exporter": "python",
   "pygments_lexer": "ipython2",
   "version": "2.7.13"
  }
 },
 "nbformat": 4,
 "nbformat_minor": 1
}
