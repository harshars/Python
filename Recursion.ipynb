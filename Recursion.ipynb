{
 "cells": [
  {
   "cell_type": "markdown",
   "metadata": {},
   "source": [
    "##Recursion"
   ]
  },
  {
   "cell_type": "markdown",
   "metadata": {},
   "source": [
    "Recursion is a way of programming or coding a problem, in which a function calls itself one or more times in its body.\n",
    "Usually, it is returning the return value of this function call. If a function definition fulfils the condition of \n",
    "recursion, we call this function a recursive function.\n",
    "\n",
    "##Termination condition:\n",
    "A recursive function has to terminate to be used in a program. A recursive function terminates, \n",
    "if with every recursive call the solution of the problem is downsized and moves towards a base case.\n",
    "A base case is a case, where the problem can be solved without further recursion. \n",
    "A recursion can lead to an infinite loop, if the base case is not met in the calls.\n",
    "\n",
    "Example:\n",
    "4! = 4 * 3!\n",
    "\n",
    "3! = 3 * 2!\n",
    "\n",
    "2! = 2 * 1\n",
    "\n",
    "Replacing the calculated values gives us the following expression\n",
    "\n",
    "4! = 4 * 3 * 2 * 1"
   ]
  },
  {
   "cell_type": "markdown",
   "metadata": {},
   "source": [
    "Generally we can say: Recursion in computer science is a method where the solution to a problem is based on solving \n",
    "smaller instances of the same problem.\n",
    "Recursive Functions in Python\n",
    "Now we come to implement the factorial in Python. It's as easy and elegant as the mathematical definition."
   ]
  },
  {
   "cell_type": "code",
   "execution_count": 6,
   "metadata": {},
   "outputs": [
    {
     "data": {
      "text/plain": [
       "720"
      ]
     },
     "execution_count": 6,
     "metadata": {},
     "output_type": "execute_result"
    }
   ],
   "source": [
    "def factorial(n):\n",
    "    if n == 1:\n",
    "        return 1\n",
    "    else:\n",
    "        return n * factorial(n-1)\n",
    "factorial(6)"
   ]
  },
  {
   "cell_type": "code",
   "execution_count": 11,
   "metadata": {},
   "outputs": [
    {
     "data": {
      "text/plain": [
       "10"
      ]
     },
     "execution_count": 11,
     "metadata": {},
     "output_type": "execute_result"
    }
   ],
   "source": [
    "def r_s(l):\n",
    "    if(len(l)==1):\n",
    "        return l[0]\n",
    "    else:\n",
    "        return l[0] + r_s(l[1:])\n",
    "r_s([1,2,3,4])"
   ]
  },
  {
   "cell_type": "markdown",
   "metadata": {},
   "source": [
    "We can track how the function works by adding two print() function to the previous function definition:"
   ]
  },
  {
   "cell_type": "code",
   "execution_count": 5,
   "metadata": {},
   "outputs": [
    {
     "name": "stdout",
     "output_type": "stream",
     "text": [
      "factorial has been called with n = 5\n",
      "factorial has been called with n = 4\n",
      "factorial has been called with n = 3\n",
      "factorial has been called with n = 2\n",
      "factorial has been called with n = 1\n",
      "('intermediate result for ', 2, ' * factorial(', 1, '): ', 2)\n",
      "('intermediate result for ', 3, ' * factorial(', 2, '): ', 6)\n",
      "('intermediate result for ', 4, ' * factorial(', 3, '): ', 24)\n",
      "('intermediate result for ', 5, ' * factorial(', 4, '): ', 120)\n",
      "120\n"
     ]
    }
   ],
   "source": [
    "def factorial(n):\n",
    "    print(\"factorial has been called with n = \" + str(n))\n",
    "    if n == 1:\n",
    "        return 1\n",
    "    else:\n",
    "        res = n * factorial(n-1)\n",
    "        print(\"intermediate result for \", n, \" * factorial(\" ,n-1, \"): \",res)\n",
    "        return res\t\n",
    "\n",
    "print(factorial(5))"
   ]
  }
 ],
 "metadata": {
  "kernelspec": {
   "display_name": "Python 2",
   "language": "python",
   "name": "python2"
  },
  "language_info": {
   "codemirror_mode": {
    "name": "ipython",
    "version": 2
   },
   "file_extension": ".py",
   "mimetype": "text/x-python",
   "name": "python",
   "nbconvert_exporter": "python",
   "pygments_lexer": "ipython2",
   "version": "2.7.13"
  }
 },
 "nbformat": 4,
 "nbformat_minor": 1
}
