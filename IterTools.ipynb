{
 "cells": [
  {
   "cell_type": "markdown",
   "metadata": {},
   "source": [
    "###itertools – Iterator functions for efficient looping\n",
    "####Purpose:\t\n",
    "The itertools module includes a set of functions for working with iterable (sequence-like) data sets.\n",
    "Available In:\t2.3"
   ]
  },
  {
   "cell_type": "markdown",
   "metadata": {},
   "source": [
    "The functions provided are inspired by similar features of the “lazy functional programming language” Haskell and SML. \n",
    "hey are intended to be fast and use memory efficiently, but also to be hooked together to express more complicated \n",
    "iteration-based algorithms.\n",
    "\n",
    "Iterator-based code may be preferred over code which uses lists for several reasons. \n",
    "Since data is not produced from the iterator until it is needed, all of the data is not stored in memory at the same time.\n",
    "Reducing memory usage can reduce swapping and other side-effects of large data sets, increasing performance.\n",
    "Merging and Splitting Iterators\n",
    "\n",
    "The chain() function takes several iterators as arguments and returns a single iterator that produces the contents of all \n",
    "of them as though they came from a single sequence."
   ]
  },
  {
   "cell_type": "code",
   "execution_count": 1,
   "metadata": {
    "collapsed": false
   },
   "outputs": [
    {
     "name": "stdout",
     "output_type": "stream",
     "text": [
      "1\n",
      "2\n",
      "3\n",
      "a\n",
      "b\n",
      "c\n"
     ]
    }
   ],
   "source": [
    "from itertools import *\n",
    "\n",
    "for i in chain([1, 2, 3], ['a', 'b', 'c']):\n",
    "    print i"
   ]
  },
  {
   "cell_type": "markdown",
   "metadata": {},
   "source": [
    "izip() returns an iterator that combines the elements of several iterators into tuples. \n",
    "It works like the built-in function zip(), except that it returns an iterator instead of a list."
   ]
  },
  {
   "cell_type": "code",
   "execution_count": 2,
   "metadata": {
    "collapsed": false
   },
   "outputs": [
    {
     "name": "stdout",
     "output_type": "stream",
     "text": [
      "(1, 'a')\n",
      "(2, 'b')\n",
      "(3, 'c')\n"
     ]
    }
   ],
   "source": [
    "from itertools import *\n",
    "\n",
    "for i in izip([1, 2, 3], ['a', 'b', 'c']):\n",
    "    print i"
   ]
  },
  {
   "cell_type": "markdown",
   "metadata": {},
   "source": [
    "The islice() function returns an iterator which returns selected items from the input iterator, by index. \n",
    "It takes the same arguments as the slice operator for lists: start, stop, and step. The start and step arguments \n",
    "are optional."
   ]
  },
  {
   "cell_type": "code",
   "execution_count": 5,
   "metadata": {
    "collapsed": false
   },
   "outputs": [
    {
     "name": "stdout",
     "output_type": "stream",
     "text": [
      "Stop at 5:\n",
      "0\n",
      "1\n",
      "2\n",
      "3\n",
      "4\n",
      "Start at 5, Stop at 10:\n",
      "5\n",
      "6\n",
      "7\n",
      "8\n",
      "9\n",
      "By tens to 100:\n",
      "0\n",
      "10\n",
      "20\n",
      "30\n",
      "40\n",
      "50\n",
      "60\n",
      "70\n",
      "80\n",
      "90\n"
     ]
    }
   ],
   "source": [
    "from itertools import *\n",
    "\n",
    "print 'Stop at 5:'\n",
    "for i in islice(count(), 5):\n",
    "    print i\n",
    "\n",
    "print 'Start at 5, Stop at 10:'\n",
    "for i in islice(count(), 5, 10):\n",
    "    print i\n",
    "\n",
    "print 'By tens to 100:'\n",
    "for i in islice(count(), 0, 100, 10):\n",
    "    print i"
   ]
  },
  {
   "cell_type": "code",
   "execution_count": 3,
   "metadata": {
    "collapsed": true
   },
   "outputs": [],
   "source": [
    "d = {1: 'a',2:'b',3:'c',4:'d'}"
   ]
  },
  {
   "cell_type": "code",
   "execution_count": 4,
   "metadata": {
    "collapsed": false
   },
   "outputs": [
    {
     "name": "stdout",
     "output_type": "stream",
     "text": [
      "(1, 'a')\n",
      "(2, 'b')\n"
     ]
    }
   ],
   "source": [
    "for x in islice(d.items(),len(d)/2): #Cam be used to slice a dictionary\n",
    "    print x"
   ]
  },
  {
   "cell_type": "markdown",
   "metadata": {},
   "source": [
    "The tee() function returns several independent iterators (defaults to 2) based on a single original input. \n",
    "It has semantics similar to the Unix tee utility, which repeats the values it reads from its input and writes\n",
    "them to a named file and standard output."
   ]
  },
  {
   "cell_type": "code",
   "execution_count": 5,
   "metadata": {
    "collapsed": true
   },
   "outputs": [],
   "source": [
    "from itertools import *\n",
    "\n",
    "r = islice(count(), 5)\n"
   ]
  },
  {
   "cell_type": "code",
   "execution_count": 6,
   "metadata": {
    "collapsed": false
   },
   "outputs": [
    {
     "name": "stdout",
     "output_type": "stream",
     "text": [
      "i1: 0\n",
      "i1: 1\n",
      "i1: 2\n",
      "i1: 3\n",
      "i1: 4\n",
      "i2: 0\n",
      "i2: 1\n",
      "i2: 2\n",
      "i2: 3\n",
      "i2: 4\n"
     ]
    }
   ],
   "source": [
    "i1, i2 = tee(r) #Creates two variables which has the same values as t \n",
    "for i in i1:\n",
    "    print 'i1:', i\n",
    "for i in i2:\n",
    "    print 'i2:', i"
   ]
  },
  {
   "cell_type": "code",
   "execution_count": 7,
   "metadata": {
    "collapsed": true
   },
   "outputs": [],
   "source": [
    "it = tee([1,2,3], 3) #create 3 instances of a list with same values"
   ]
  },
  {
   "cell_type": "code",
   "execution_count": 8,
   "metadata": {
    "collapsed": false
   },
   "outputs": [
    {
     "name": "stdout",
     "output_type": "stream",
     "text": [
      "1\n",
      "2\n",
      "3\n",
      "1\n",
      "2\n",
      "3\n",
      "1\n",
      "2\n",
      "3\n"
     ]
    }
   ],
   "source": [
    "for x in it:\n",
    "    for y in x:\n",
    "        print y"
   ]
  },
  {
   "cell_type": "markdown",
   "metadata": {},
   "source": [
    "Since the new iterators created by tee() share the input, you should not use the original iterator any more.\n",
    "If you do consume values from the original input, the new iterators will not produce those values:"
   ]
  },
  {
   "cell_type": "code",
   "execution_count": 1,
   "metadata": {
    "collapsed": false
   },
   "outputs": [
    {
     "name": "stdout",
     "output_type": "stream",
     "text": [
      "r: 0\n",
      "r: 1\n",
      "r: 2\n",
      "i1: 3\n",
      "i1: 4\n",
      "i2: 3\n",
      "i2: 4\n"
     ]
    }
   ],
   "source": [
    "from itertools import *\n",
    "\n",
    "r = islice(count(), 5)\n",
    "i1, i2 = tee(r)\n",
    "\n",
    "for i in r:\n",
    "    print 'r:', i\n",
    "    #Prints until the value of i is greater than 2\n",
    "    if i > 1:\n",
    "        break\n",
    "for i in i1:\n",
    "    #tee works by keeping track of all of the iterated values that have been consumed\n",
    "    #from the original iterator, Hence continues from where the previous iterator stopped \n",
    "    print 'i1:', i\n",
    "for i in i2:\n",
    "    print 'i2:', i"
   ]
  },
  {
   "cell_type": "markdown",
   "metadata": {},
   "source": [
    "##Converting Inputs\n",
    "\n",
    "The imap() function returns an iterator that calls a function on the values in the input iterators, \n",
    "and returns the results. It works like the built-in map(), except that it stops when any input iterator is \n",
    "exhausted (instead of inserting None values to completely consume all of the inputs).\n",
    "\n",
    "In the first example, the lambda function multiplies the input values by 2. \n",
    "In a second example, the lambda function multiplies 2 arguments, taken from separate iterators, \n",
    "and returns a tuple with the original arguments and the computed value."
   ]
  },
  {
   "cell_type": "code",
   "execution_count": 57,
   "metadata": {
    "collapsed": false
   },
   "outputs": [
    {
     "name": "stdout",
     "output_type": "stream",
     "text": [
      "Doubles:\n",
      "0\n",
      "2\n",
      "4\n",
      "6\n",
      "8\n",
      "Multiples:\n",
      "0 * 5 = 0\n",
      "1 * 6 = 6\n",
      "2 * 7 = 14\n",
      "3 * 8 = 24\n",
      "4 * 9 = 36\n"
     ]
    }
   ],
   "source": [
    "from itertools import *\n",
    "\n",
    "print 'Doubles:'\n",
    "for i in imap(lambda x:2*x, xrange(5)):\n",
    "    print i\n",
    "\n",
    "print 'Multiples:'\n",
    "for i in imap(lambda x,y:(x, y, x*y), xrange(5), xrange(5,10)):\n",
    "    print '%d * %d = %d' % i"
   ]
  },
  {
   "cell_type": "markdown",
   "metadata": {},
   "source": [
    "The starmap() function is similar to imap(), but instead of constructing a tuple from multiple iterators it\n",
    "splits up the items in a single iterator as arguments to the mapping function using the * syntax. \n",
    "Where the mapping function to imap() is called f(i1, i2), the mapping function to starmap() is called f(*i)."
   ]
  },
  {
   "cell_type": "code",
   "execution_count": 63,
   "metadata": {
    "collapsed": false
   },
   "outputs": [
    {
     "name": "stdout",
     "output_type": "stream",
     "text": [
      "[(0, 5), (1, 6), (2, 7), (3, 8), (4, 9)]\n",
      "0 * 5 = 0\n",
      "1 * 6 = 6\n",
      "2 * 7 = 14\n",
      "3 * 8 = 24\n",
      "4 * 9 = 36\n"
     ]
    }
   ],
   "source": [
    "from itertools import *\n",
    "\n",
    "values = list(izip(xrange(0,5),xrange(5,10)))\n",
    "print values \n",
    "#starmap takes a list of tuples as argument whereas imap takes many lists for the arguments \n",
    "for i in starmap(lambda x,y:(x, y, x*y), values):\n",
    "    print '%d * %d = %d' % i"
   ]
  },
  {
   "cell_type": "markdown",
   "metadata": {},
   "source": [
    "##Producing New Values\n",
    "\n",
    "The count() function returns an interator that produces consecutive integers, indefinitely.\n",
    "The first number can be passed as an argument, the default is zero. There is no upper bound argument \n",
    "(see the built-in xrange() for more control over the result set).\n",
    "In this example, the iteration stops because the list argument is consumed."
   ]
  },
  {
   "cell_type": "code",
   "execution_count": 64,
   "metadata": {
    "collapsed": false
   },
   "outputs": [
    {
     "name": "stdout",
     "output_type": "stream",
     "text": [
      "(1, 'a')\n",
      "(2, 'b')\n",
      "(3, 'c')\n"
     ]
    }
   ],
   "source": [
    "from itertools import *\n",
    "#REfer to islice where the count function was used earlier \n",
    "for i in izip(count(1), ['a', 'b', 'c']):\n",
    "    print i"
   ]
  },
  {
   "cell_type": "markdown",
   "metadata": {},
   "source": [
    "The cycle() function returns an iterator that repeats the contents of the arguments it is given indefinitely.\n",
    "Since it has to remember the entire contents of the input iterator, it may consume quite a bit of memory \n",
    "if the iterator is long. In this example, a counter variable is used to break out of the loop after a few cycles."
   ]
  },
  {
   "cell_type": "code",
   "execution_count": 70,
   "metadata": {
    "collapsed": false
   },
   "outputs": [
    {
     "name": "stdout",
     "output_type": "stream",
     "text": [
      "(1, 'a')\n",
      "(2, 'b')\n",
      "(3, 'c')\n",
      "(4, 'a')\n",
      "(5, 'b')\n",
      "(6, 'c')\n",
      "(7, 'a')\n",
      "(8, 'b')\n",
      "(9, 'c')\n",
      "(10, 'a')\n"
     ]
    }
   ],
   "source": [
    "from itertools import *\n",
    "\n",
    "i = 0\n",
    "for item in cycle(['a', 'b', 'c']):\n",
    "    i += 1\n",
    "    print (i, item)\n",
    "    if i == 10:\n",
    "        break\n"
   ]
  },
  {
   "cell_type": "markdown",
   "metadata": {},
   "source": [
    "The repeat() function returns an iterator that produces the same value each time it is accessed. \n",
    "It keeps going forever, unless the optional times argument is provided to limit it."
   ]
  },
  {
   "cell_type": "code",
   "execution_count": 71,
   "metadata": {
    "collapsed": false
   },
   "outputs": [
    {
     "name": "stdout",
     "output_type": "stream",
     "text": [
      "over-and-over\n",
      "over-and-over\n",
      "over-and-over\n",
      "over-and-over\n",
      "over-and-over\n"
     ]
    }
   ],
   "source": [
    "from itertools import *\n",
    "\n",
    "for i in repeat('over-and-over', 5):\n",
    "    print i"
   ]
  },
  {
   "cell_type": "markdown",
   "metadata": {},
   "source": [
    "It is useful to combine repeat() with izip() or imap() when invariant values need to be included with the values \n",
    "from the other iterators."
   ]
  },
  {
   "cell_type": "code",
   "execution_count": 72,
   "metadata": {
    "collapsed": false
   },
   "outputs": [
    {
     "name": "stdout",
     "output_type": "stream",
     "text": [
      "0 over-and-over\n",
      "1 over-and-over\n",
      "2 over-and-over\n",
      "3 over-and-over\n",
      "4 over-and-over\n"
     ]
    }
   ],
   "source": [
    "from itertools import *\n",
    "\n",
    "for i, s in izip(count(), repeat('over-and-over', 5)):\n",
    "    print i, s"
   ]
  },
  {
   "cell_type": "code",
   "execution_count": 74,
   "metadata": {
    "collapsed": false
   },
   "outputs": [
    {
     "name": "stdout",
     "output_type": "stream",
     "text": [
      "2 * 1 = 2\n",
      "2 * 2 = 4\n",
      "2 * 3 = 6\n",
      "2 * 4 = 8\n"
     ]
    }
   ],
   "source": [
    "from itertools import *\n",
    "\n",
    "for i in imap(lambda x,y:(x, y, x*y), repeat(2), xrange(1,5)):\n",
    "    print '%d * %d = %d' % i"
   ]
  },
  {
   "cell_type": "markdown",
   "metadata": {},
   "source": [
    "##Filtering\n",
    "\n",
    "The dropwhile() function returns an iterator that returns elements of the input iterator after a condition becomes \n",
    "false for the first time. It does not filter every item of the input; after the condition is false the first time, \n",
    "all of the remaining items in the input are returned."
   ]
  },
  {
   "cell_type": "code",
   "execution_count": 77,
   "metadata": {
    "collapsed": false
   },
   "outputs": [
    {
     "name": "stdout",
     "output_type": "stream",
     "text": [
      "Testing: -1\n",
      "Testing: 0\n",
      "Testing: 1\n",
      "Yielding: 1\n",
      "Yielding: 2\n",
      "Yielding: 3\n",
      "Yielding: 4\n",
      "Yielding: 1\n",
      "Yielding: -2\n"
     ]
    }
   ],
   "source": [
    "from itertools import *\n",
    "\n",
    "def should_drop(x):\n",
    "    print 'Testing:', x\n",
    "    return (x<1)\n",
    "\n",
    "l = []\n",
    "for i in dropwhile(should_drop, [ -1, 0, 1, 2, 3, 4, 1, -2 ]):\n",
    "    print 'Yielding:', i\n",
    "    l.append(i)"
   ]
  },
  {
   "cell_type": "code",
   "execution_count": 78,
   "metadata": {
    "collapsed": false
   },
   "outputs": [
    {
     "data": {
      "text/plain": [
       "[1, 2, 3, 4, 1, -2]"
      ]
     },
     "execution_count": 78,
     "metadata": {},
     "output_type": "execute_result"
    }
   ],
   "source": [
    "l #Returns all the elements from the list after the first false was encountered "
   ]
  },
  {
   "cell_type": "markdown",
   "metadata": {},
   "source": [
    "The opposite of dropwhile(), takewhile() returns an iterator that returns items from the input iterator as long as the \n",
    "test function returns true."
   ]
  },
  {
   "cell_type": "code",
   "execution_count": 80,
   "metadata": {
    "collapsed": false
   },
   "outputs": [
    {
     "name": "stdout",
     "output_type": "stream",
     "text": [
      "Testing: -1\n",
      "Yielding: -1\n",
      "Testing: 0\n",
      "Yielding: 0\n",
      "Testing: 1\n",
      "Yielding: 1\n",
      "Testing: 2\n"
     ]
    }
   ],
   "source": [
    "from itertools import *\n",
    "\n",
    "def should_take(x):\n",
    "    print 'Testing:', x\n",
    "    return (x<2)\n",
    "\n",
    "l=[]\n",
    "for i in takewhile(should_take, [ -1, 0, 1, 2, 3, 4, 1, -2 ]):\n",
    "    print 'Yielding:', i\n",
    "    l.append(i)"
   ]
  },
  {
   "cell_type": "code",
   "execution_count": 81,
   "metadata": {
    "collapsed": false
   },
   "outputs": [
    {
     "data": {
      "text/plain": [
       "[-1, 0, 1]"
      ]
     },
     "execution_count": 81,
     "metadata": {},
     "output_type": "execute_result"
    }
   ],
   "source": [
    "l #Returns all the elements from the list until the first false was encountered "
   ]
  },
  {
   "cell_type": "markdown",
   "metadata": {},
   "source": [
    "ifilter() returns an iterator that works like the built-in filter() does for lists, including only items for \n",
    "which the test function returns true. It is different from dropwhile() in that every item is tested before it is returned."
   ]
  },
  {
   "cell_type": "code",
   "execution_count": 83,
   "metadata": {
    "collapsed": false
   },
   "outputs": [
    {
     "name": "stdout",
     "output_type": "stream",
     "text": [
      "Testing: -1\n",
      "Yielding: -1\n",
      "Testing: 0\n",
      "Yielding: 0\n",
      "Testing: 1\n",
      "Testing: 2\n",
      "Testing: 3\n",
      "Testing: 4\n",
      "Testing: 1\n",
      "Testing: -2\n",
      "Yielding: -2\n"
     ]
    }
   ],
   "source": [
    "from itertools import *\n",
    "\n",
    "def check_item(x):\n",
    "    print 'Testing:', x\n",
    "    return (x<1)\n",
    "\n",
    "l = []\n",
    "for i in ifilter(check_item, [ -1, 0, 1, 2, 3, 4, 1, -2 ]):\n",
    "    #Prints yielding if only the elements are filtered \n",
    "    print 'Yielding:', i\n",
    "    l.append(i)"
   ]
  },
  {
   "cell_type": "code",
   "execution_count": 84,
   "metadata": {
    "collapsed": false
   },
   "outputs": [
    {
     "data": {
      "text/plain": [
       "[-1, 0, -2]"
      ]
     },
     "execution_count": 84,
     "metadata": {},
     "output_type": "execute_result"
    }
   ],
   "source": [
    "l"
   ]
  },
  {
   "cell_type": "markdown",
   "metadata": {},
   "source": [
    "The opposite of ifilter(), ifilterfalse() returns an iterator that includes only items where the test function \n",
    "returns false."
   ]
  },
  {
   "cell_type": "code",
   "execution_count": 85,
   "metadata": {
    "collapsed": false
   },
   "outputs": [
    {
     "name": "stdout",
     "output_type": "stream",
     "text": [
      "Testing: -1\n",
      "Testing: 0\n",
      "Testing: 1\n",
      "Yielding: 1\n",
      "Testing: 2\n",
      "Yielding: 2\n",
      "Testing: 3\n",
      "Yielding: 3\n",
      "Testing: 4\n",
      "Yielding: 4\n",
      "Testing: 1\n",
      "Yielding: 1\n",
      "Testing: -2\n"
     ]
    }
   ],
   "source": [
    "from itertools import *\n",
    "\n",
    "def check_item(x):\n",
    "    print 'Testing:', x\n",
    "    return (x<1)\n",
    "\n",
    "l = []\n",
    "for i in ifilterfalse(check_item, [ -1, 0, 1, 2, 3, 4, 1, -2 ]):\n",
    "    #Gets printed if only the filter condition is false for the elements \n",
    "    print 'Yielding:', i\n",
    "    l.append(i)"
   ]
  },
  {
   "cell_type": "code",
   "execution_count": 86,
   "metadata": {
    "collapsed": false
   },
   "outputs": [
    {
     "data": {
      "text/plain": [
       "[1, 2, 3, 4, 1]"
      ]
     },
     "execution_count": 86,
     "metadata": {},
     "output_type": "execute_result"
    }
   ],
   "source": [
    "l"
   ]
  },
  {
   "cell_type": "markdown",
   "metadata": {},
   "source": [
    "##Grouping Data\n",
    "\n",
    "The groupby() function returns an iterator that produces sets of values grouped by a common key.\n",
    "\n",
    "This example from the standard library documentation shows how to group keys in a dictionary which have the same value:"
   ]
  },
  {
   "cell_type": "code",
   "execution_count": 6,
   "metadata": {
    "collapsed": false
   },
   "outputs": [
    {
     "name": "stdout",
     "output_type": "stream",
     "text": [
      "{'a': 1, 'c': 1, 'b': 2, 'e': 1, 'd': 2, 'g': 3, 'f': 2}\n",
      "[('a', 1), ('c', 1), ('e', 1), ('b', 2), ('d', 2), ('f', 2), ('g', 3)]\n",
      "1 ['a', 'c', 'e']\n",
      "2 ['b', 'd', 'f']\n",
      "3 ['g']\n"
     ]
    }
   ],
   "source": [
    "from itertools import *\n",
    "from operator import itemgetter\n",
    "\n",
    "d = dict(a=1, b=2, c=1, d=2, e=1, f=2, g=3)\n",
    "print d\n",
    "di = sorted(d.iteritems(), key=itemgetter(1))\n",
    "print di\n",
    "for k, g in groupby(di, key=itemgetter(1)):\n",
    "    print k, map(itemgetter(0), g)"
   ]
  },
  {
   "cell_type": "code",
   "execution_count": 7,
   "metadata": {
    "collapsed": false
   },
   "outputs": [
    {
     "name": "stdout",
     "output_type": "stream",
     "text": [
      "3\n"
     ]
    }
   ],
   "source": [
    "def foo(n,v):\n",
    "    print (n(v))\n",
    "foo(max,[1,2,3])"
   ]
  }
 ],
 "metadata": {
  "anaconda-cloud": {},
  "kernelspec": {
   "display_name": "Python [Root]",
   "language": "python",
   "name": "Python [Root]"
  },
  "language_info": {
   "codemirror_mode": {
    "name": "ipython",
    "version": 2
   },
   "file_extension": ".py",
   "mimetype": "text/x-python",
   "name": "python",
   "nbconvert_exporter": "python",
   "pygments_lexer": "ipython2",
   "version": "2.7.12"
  }
 },
 "nbformat": 4,
 "nbformat_minor": 1
}
