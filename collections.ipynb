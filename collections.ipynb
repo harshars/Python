{
 "cells": [
  {
   "cell_type": "markdown",
   "metadata": {},
   "source": [
    "##Collections in PYTHON"
   ]
  },
  {
   "cell_type": "markdown",
   "metadata": {},
   "source": [
    "This module implements specialized container datatypes providing alternatives to Python’s general purpose\n",
    "built-in containers, dict, list, set, and tuple.\n",
    "\n",
    "|   |   |   |   |\n",
    "|---|---|---|---|\n",
    "|namedtuple()|factory function for creating tuple subclasses with named fields |New in version 2.6.|\n",
    "|deque|list-like container with fast appends and pops on either end|New in version 2.4.|\n",
    "|Counter|dict subclass for counting hashable objects|New in version 2.7.|\n",
    "|OrderedDict|dict subclass that remembers the order entries were added|New in version 2.7.|\n",
    "|defaultdict|dict subclass that calls a factory function to supply missing values|New in version 2.5.|\n"
   ]
  },
  {
   "cell_type": "markdown",
   "metadata": {},
   "source": [
    "###NOTE:\n",
    "highly recommended to refer the below link for details on each collections\n",
    "    https://docs.python.org/2/library/collections.html\n",
    "    \n",
    "Additional video link :\n",
    "https://www.youtube.com/watch?v=J8Og6NDgckM\n",
    "\n",
    "    "
   ]
  },
  {
   "cell_type": "code",
   "execution_count": null,
   "metadata": {
    "collapsed": true
   },
   "outputs": [],
   "source": []
  }
 ],
 "metadata": {
  "kernelspec": {
   "display_name": "Python 2",
   "language": "python",
   "name": "python2"
  },
  "language_info": {
   "codemirror_mode": {
    "name": "ipython",
    "version": 2
   },
   "file_extension": ".py",
   "mimetype": "text/x-python",
   "name": "python",
   "nbconvert_exporter": "python",
   "pygments_lexer": "ipython2",
   "version": "2.7.13"
  }
 },
 "nbformat": 4,
 "nbformat_minor": 1
}
