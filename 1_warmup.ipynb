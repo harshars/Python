{
 "cells": [
  {
   "cell_type": "markdown",
   "metadata": {},
   "source": [
    "**NOTE: **This symbol(#) is a single line comment.\n",
    "\n",
    "Maintain all lines of code in same indentation"
   ]
  },
  {
   "cell_type": "markdown",
   "metadata": {},
   "source": [
    "**Practice 1**\n",
    "\n",
    "Let's look at Python's input reading method."
   ]
  },
  {
   "cell_type": "code",
   "execution_count": 1,
   "metadata": {
    "collapsed": false
   },
   "outputs": [
    {
     "name": "stdout",
     "output_type": "stream",
     "text": [
      "fd\n"
     ]
    }
   ],
   "source": [
    "#Press RUN button or shift+enter to excute the script\n",
    "#The output of this cell would be what you type in the box that appears after shift+Enter \n",
    "name = raw_input()"
   ]
  },
  {
   "cell_type": "code",
   "execution_count": 2,
   "metadata": {
    "collapsed": false
   },
   "outputs": [
    {
     "data": {
      "text/plain": [
       "str"
      ]
     },
     "execution_count": 2,
     "metadata": {},
     "output_type": "execute_result"
    }
   ],
   "source": [
    "type(name)"
   ]
  },
  {
   "cell_type": "code",
   "execution_count": 3,
   "metadata": {
    "collapsed": false
   },
   "outputs": [],
   "source": [
    "x=2"
   ]
  },
  {
   "cell_type": "code",
   "execution_count": null,
   "metadata": {
    "collapsed": true
   },
   "outputs": [],
   "source": [
    "a= x*x"
   ]
  },
  {
   "cell_type": "code",
   "execution_count": null,
   "metadata": {
    "collapsed": false
   },
   "outputs": [],
   "source": [
    "a"
   ]
  },
  {
   "cell_type": "code",
   "execution_count": null,
   "metadata": {
    "collapsed": true
   },
   "outputs": [],
   "source": [
    "x=3"
   ]
  },
  {
   "cell_type": "code",
   "execution_count": null,
   "metadata": {
    "collapsed": false
   },
   "outputs": [],
   "source": [
    "a"
   ]
  },
  {
   "cell_type": "markdown",
   "metadata": {},
   "source": [
    "Python program statements are written one above the other, as shown in the following example:\n",
    "\n",
    "\n",
    "print (\"Anne was here\")\n",
    "\n",
    "print (\"again at work\")\n",
    "\n",
    "print (\"having fun with Python\")\n",
    "\n",
    "\n",
    "The 3 line program above is correct and will run producing the expected output.\n",
    "\n",
    "\n",
    "\n",
    "The program below will generate a syntax error \n",
    "because of the space character inserted at the start of the second line.\n",
    "\n",
    "\n",
    "print (\"Anne was here\")\n",
    "  \n",
    "       print (\"again at work\")\n",
    "  \n",
    "print (\"having fun with Python\")\n",
    "\n",
    "\n",
    "\n",
    "\n",
    "\n",
    "The if statement\n",
    "----------------\n",
    "\n",
    "The if statement starts with the keyword \"if\" \n",
    "followed by a Boolean expression (e.g. x == 10), followed by a colon (:)."
   ]
  },
  {
   "cell_type": "code",
   "execution_count": null,
   "metadata": {
    "collapsed": false
   },
   "outputs": [],
   "source": [
    "x = 10\n",
    "if x != 10:\n",
    "   print ('x has a value of 10')\n",
    "elif x>1:\n",
    "    print 'yes'\n",
    "else:\n",
    "   print ('x does NOT have a value of 10')"
   ]
  },
  {
   "cell_type": "markdown",
   "metadata": {},
   "source": [
    "Beneath the if line, the statements to be run if the condition is true are entered \n",
    "after typing a few space characters. In the example above, three space characters are used.\n",
    "Any statements to be run after the else: part of the program\n",
    "also have to be spaced out to the ***same level*** \n",
    "by typing 3 space characters before the statement.\n",
    "\n",
    "Spacing out a program in this way is known as indenting. \n",
    "\n",
    "Indentation is part of the syntax of the Python language."
   ]
  },
  {
   "cell_type": "markdown",
   "metadata": {},
   "source": [
    "That's one way of doing it for yourself. But in competitive programming we don't ask questions. We only answer them.\n",
    "So we will only use raw_input() to read a string without asking any question to the system."
   ]
  },
  {
   "cell_type": "markdown",
   "metadata": {
    "collapsed": false
   },
   "source": [
    "**Task**\n",
    "Read a string from the console and print it.\n",
    "\n",
    "**Input Format**\n",
    "The first and only line of input contains a string.\n",
    "\n",
    "**Constraints**\n",
    "String length ≤ 500\n",
    "\n",
    "**Output Format**\n",
    "Print the same string back. "
   ]
  },
  {
   "cell_type": "markdown",
   "metadata": {},
   "source": [
    "<span style=\"color:red; font-weight: bold;font-size: 150%;\" > NOTE</span>\n"
   ]
  },
  {
   "cell_type": "markdown",
   "metadata": {},
   "source": [
    "If the inputs are given in one line separated by a space character, use <span style=\"color:red; font-weight: bold;font-size: 100%;\" >split()</span> to get the splitted values in form of \n",
    "a list. \n"
   ]
  },
  {
   "cell_type": "code",
   "execution_count": null,
   "metadata": {
    "collapsed": false
   },
   "outputs": [],
   "source": [
    "a = raw_input()\n",
    "lis = a.split()\n",
    "print (lis)"
   ]
  },
  {
   "cell_type": "markdown",
   "metadata": {},
   "source": [
    "**Practice 2**\n",
    "\n",
    "Let's learn about Python's arithmetic operators."
   ]
  },
  {
   "cell_type": "code",
   "execution_count": null,
   "metadata": {
    "collapsed": false
   },
   "outputs": [],
   "source": [
    "\n",
    "a=3.5\n",
    "print type(a)\n",
    "a= int(a)\n",
    "print type(a)"
   ]
  },
  {
   "cell_type": "markdown",
   "metadata": {},
   "source": [
    "Now, the three basic arithmetic operators are the following:\n",
    "\n",
    "    Addition (+)\n",
    "    Subtraction (-)\n",
    "    Multiplication (*)\n",
    "    Division(/)\n",
    " \n",
    "    \n",
    "\n",
    "\n",
    "\n",
    "Task\n",
    "Read two integers from STDIN and print three lines where:\n",
    "(1) the first line contains the sum of the two numbers,\n",
    "(2) the second line contains the difference of the two numbers (first - second),\n",
    "(3) the third line contains the product of the two numbers.\n",
    "(4) the fourth line contains the division of the two numbers.\n",
    "\n",
    "Input Format\n",
    "The first line contains the first integer, a, and the second line contains the second integer, b.\n",
    "\n",
    "Constraints\n",
    "1≤a≤1010\n",
    "1≤b≤1010\n",
    "\n",
    "Output Format\n",
    "Print four lines as explained above.\n",
    "\n",
    "Sample Input\n",
    "\n",
    "3\n",
    "2\n",
    "\n",
    "Sample Output\n",
    "\n",
    "5\n",
    "1\n",
    "6\n",
    "1\n",
    "\n",
    "Explanation\n",
    "3+2⟹5\n",
    "3−2⟹1\n",
    "3∗2⟹6\n",
    "3/2⟹1"
   ]
  },
  {
   "cell_type": "code",
   "execution_count": null,
   "metadata": {
    "collapsed": false
   },
   "outputs": [],
   "source": [
    "a=5"
   ]
  }
 ],
 "metadata": {
  "anaconda-cloud": {},
  "kernelspec": {
   "display_name": "Python [Root]",
   "language": "python",
   "name": "Python [Root]"
  },
  "language_info": {
   "codemirror_mode": {
    "name": "ipython",
    "version": 2
   },
   "file_extension": ".py",
   "mimetype": "text/x-python",
   "name": "python",
   "nbconvert_exporter": "python",
   "pygments_lexer": "ipython2",
   "version": "2.7.12"
  }
 },
 "nbformat": 4,
 "nbformat_minor": 0
}
