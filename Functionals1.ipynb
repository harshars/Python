{
 "cells": [
  {
   "cell_type": "markdown",
   "metadata": {},
   "source": [
    "##Python Functionals  (Lamda)"
   ]
  },
  {
   "cell_type": "markdown",
   "metadata": {},
   "source": [
    "Python supports the creation of anonymous functions (i.e. functions that are not bound to a name) at runtime, \n",
    "using a construct called \"lambda\". This is not exactly the same as lambda in functional programming languages, \n",
    "but it is a very powerful concept that's well integrated into Python and is often used in conjunction with \n",
    "typical functional concepts like filter(), map() and reduce().\n",
    "\n",
    "This piece of code shows the difference between a normal function definition (\"f\") and a lambda function (\"g\"):"
   ]
  },
  {
   "cell_type": "code",
   "execution_count": 1,
   "metadata": {
    "collapsed": false
   },
   "outputs": [
    {
     "name": "stdout",
     "output_type": "stream",
     "text": [
      "64\n"
     ]
    }
   ],
   "source": [
    "def f (x): return x**2\n",
    "print f(8)"
   ]
  },
  {
   "cell_type": "code",
   "execution_count": 2,
   "metadata": {
    "collapsed": false
   },
   "outputs": [
    {
     "name": "stdout",
     "output_type": "stream",
     "text": [
      "64\n"
     ]
    }
   ],
   "source": [
    "g = lambda x: x**2\n",
    "print g(8)\n"
   ]
  },
  {
   "cell_type": "markdown",
   "metadata": {},
   "source": [
    "As you can see, f() and g() do exactly the same and can be used in the same ways. \n",
    "Note that the lambda definition does not include a \"return\" statement --\n",
    "it always contains an expression which is returned. \n",
    "Also note that you can put a lambda definition anywhere a function is expected, and you don't have to assign \n",
    "it to a variable at all.\n",
    "\n",
    "The following code fragments demonstrate the use of lambda functions. \n",
    "Note that you should have Python 2.2 or newer, in order to have support for nested scopes\n",
    "(in older versions you have to pass \"n\" through a default argument to make this example work)."
   ]
  },
  {
   "cell_type": "code",
   "execution_count": 5,
   "metadata": {
    "collapsed": false
   },
   "outputs": [
    {
     "name": "stdout",
     "output_type": "stream",
     "text": [
      "44 48\n"
     ]
    }
   ],
   "source": [
    "def make_incrementor (n): return lambda x: x + n\n",
    "f = make_incrementor(2) #Initialise an incrementer with the ste\n",
    "g = make_incrementor(6)\n",
    "print f(42), g(42)"
   ]
  },
  {
   "cell_type": "code",
   "execution_count": 7,
   "metadata": {
    "collapsed": false
   },
   "outputs": [
    {
     "name": "stdout",
     "output_type": "stream",
     "text": [
      "55\n"
     ]
    }
   ],
   "source": [
    "print make_incrementor(22)(33)"
   ]
  },
  {
   "cell_type": "markdown",
   "metadata": {},
   "source": [
    "The above code defines a function \"make_inrementor\" that creates an anonymous function on the fly and returns it. \n",
    "The returned function increments its argument by the value that was specified when it was created.\n",
    "\n",
    "You can now create multiple different incrementor functions and assign them to variables,\n",
    "then use them independent from each other. As the last statement demonstrates, you don't even have to assign the\n",
    "function anywhere -- you can just use it instantly and forget it when it's not needed anymore. "
   ]
  },
  {
   "cell_type": "code",
   "execution_count": null,
   "metadata": {
    "collapsed": true
   },
   "outputs": [],
   "source": []
  }
 ],
 "metadata": {
  "anaconda-cloud": {},
  "kernelspec": {
   "display_name": "Python [Root]",
   "language": "python",
   "name": "Python [Root]"
  },
  "language_info": {
   "codemirror_mode": {
    "name": "ipython",
    "version": 2
   },
   "file_extension": ".py",
   "mimetype": "text/x-python",
   "name": "python",
   "nbconvert_exporter": "python",
   "pygments_lexer": "ipython2",
   "version": "2.7.12"
  }
 },
 "nbformat": 4,
 "nbformat_minor": 0
}
